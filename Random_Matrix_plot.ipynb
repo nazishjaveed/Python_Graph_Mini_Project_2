{
 "cells": [
  {
   "cell_type": "markdown",
   "id": "64c38f6a",
   "metadata": {},
   "source": [
    "### Create Random Matrix Plot Using Python 🎲📊"
   ]
  },
  {
   "cell_type": "code",
   "execution_count": null,
   "id": "af467ead",
   "metadata": {},
   "outputs": [
    {
     "data": {
      "image/png": "[encoded data removed]",
      "text/plain": [
       "<Figure size 640x480 with 1 Axes>"
      ]
     },
     "metadata": {},
     "output_type": "display_data"
    }
   ],
   "source": [
    "import matplotlib.pyplot as plt\n",
    "import numpy as np\n",
    "\n",
    "plt.imshow(np.random.random((5,5)), interpolation='nearest')\n",
    "plt.xticks(np.arange(0,5), ['A', 'B', 'C', 'D', 'E'])\n",
    "plt.yticks(np.arange(0,5), ['F', 'G', 'H', 'I', 'J'])\n",
    "\n",
    "# Add title with emoji\n",
    "plt.title('Random Matrix Plot 🎲📊')\n",
    "\n",
    "plt.show()\n"
   ]
  }
 ],
 "metadata": {
  "kernelspec": {
   "display_name": "Python 3",
   "language": "python",
   "name": "python3"
  },
  "language_info": {
   "codemirror_mode": {
    "name": "ipython",
    "version": 3
   },
   "file_extension": ".py",
   "mimetype": "text/x-python",
   "name": "python",
   "nbconvert_exporter": "python",
   "pygments_lexer": "ipython3",
   "version": "3.11.9"
  }
 },
 "nbformat": 4,
 "nbformat_minor": 5
}
